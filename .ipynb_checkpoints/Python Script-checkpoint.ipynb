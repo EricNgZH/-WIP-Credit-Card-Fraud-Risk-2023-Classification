{
 "cells": [
  {
   "cell_type": "markdown",
   "id": "98031ed6",
   "metadata": {},
   "source": [
    "# Introduction"
   ]
  },
  {
   "cell_type": "markdown",
   "id": "26b629c9",
   "metadata": {},
   "source": [
    "Summary"
   ]
  },
  {
   "cell_type": "markdown",
   "id": "ee75fb30",
   "metadata": {},
   "source": [
    "1. Import Library"
   ]
  },
  {
   "cell_type": "code",
   "execution_count": null,
   "id": "8876a772",
   "metadata": {},
   "outputs": [],
   "source": [
    "# Data Handling\n",
    "import pandas as pd \n",
    "import numpy as np\n",
    "\n",
    "from scipy.stats import skew\n",
    "\n",
    "# Data Cleaning & Processing\n",
    "##from sklearn.model_selection import train_test_split\n",
    "##from sklearn.model_selection import KFold\n",
    "\n",
    "\n",
    "# Data Visualisation\n",
    "##import matplotlib as plt\n",
    "##? plotly\n",
    "##?seaborn\n",
    "##?bokeh\n",
    "\n",
    "\n",
    "# Model\n",
    "##from sklearn.ensemble import RandomForestClassifier\n",
    "##from sklearn.neighbors import KNeighborsClassifier\n",
    "##svm, logisitic regression, xgbt, et, xgbtlite \n",
    "\n",
    "##from sklearn.metrics import accuracy_score, roc_auc_score, mean_squared_error, precision_score, recall_score\n",
    "\n"
   ]
  },
  {
   "cell_type": "markdown",
   "id": "98f6e13f",
   "metadata": {},
   "source": [
    "2. Load Data"
   ]
  },
  {
   "cell_type": "code",
   "execution_count": null,
   "id": "5dbc08c8",
   "metadata": {},
   "outputs": [],
   "source": [
    "df = pd.read_csv(\"/Users/zhakaeric-m1air/Downloads/Github-Repository-Data/#Classification-Regression/##Credit Card Fraud Detection Dataset 2023/creditcard_2023.csv\")"
   ]
  },
  {
   "cell_type": "code",
   "execution_count": null,
   "id": "20b60025",
   "metadata": {},
   "outputs": [],
   "source": [
    "data header\n",
    "data size \n",
    "\n",
    "print(df.info())\n",
    "\n",
    "print('-------------')"
   ]
  },
  {
   "cell_type": "markdown",
   "id": "772b488a",
   "metadata": {},
   "source": [
    "3. Data Preparation\n",
    "- check missing \n",
    "- data cleaning if any + methodology (remove/insert)"
   ]
  },
  {
   "cell_type": "code",
   "execution_count": null,
   "id": "289f3058",
   "metadata": {},
   "outputs": [],
   "source": [
    "# check NULLs \n",
    "print(df.isnull().sum())\n",
    "\n",
    "#check duplicates \n",
    "\n"
   ]
  },
  {
   "cell_type": "markdown",
   "id": "60f22470",
   "metadata": {},
   "source": [
    "4. Exploratory Data Analysis \n",
    "\n",
    "- descriptive stat\n",
    "- histo\n",
    "- correlation \n",
    "- identify top factors for fraud \n"
   ]
  },
  {
   "cell_type": "code",
   "execution_count": null,
   "id": "2e0ed70d",
   "metadata": {},
   "outputs": [],
   "source": [
    "# Descriptive Statistics \n"
   ]
  },
  {
   "cell_type": "code",
   "execution_count": null,
   "id": "f31a2e8d",
   "metadata": {},
   "outputs": [],
   "source": [
    "\n",
    "\n",
    "#check skewness \n",
    "skewness = skew(df)\n",
    "print(\"Skewness:\", skewness)\n",
    "\n",
    "\n",
    "#check kurtosis \n"
   ]
  },
  {
   "cell_type": "code",
   "execution_count": null,
   "id": "403cdc79",
   "metadata": {},
   "outputs": [],
   "source": [
    "#check qq \n",
    "#check normal distribution "
   ]
  },
  {
   "cell_type": "code",
   "execution_count": null,
   "id": "b75eb411",
   "metadata": {},
   "outputs": [],
   "source": [
    "#check correlation \n",
    "\n",
    "# correlation heatmap \n"
   ]
  },
  {
   "cell_type": "code",
   "execution_count": null,
   "id": "acca3ceb",
   "metadata": {},
   "outputs": [],
   "source": [
    "#train test split \n"
   ]
  },
  {
   "cell_type": "code",
   "execution_count": null,
   "id": "533e6a42",
   "metadata": {},
   "outputs": [],
   "source": [
    "# n-fold cross validation\n",
    "n = 5\n",
    "kf = KFold(n_splits=n, shuffle=True)\n"
   ]
  },
  {
   "cell_type": "code",
   "execution_count": null,
   "id": "87b44a76",
   "metadata": {},
   "outputs": [],
   "source": []
  },
  {
   "cell_type": "markdown",
   "id": "124c2da2",
   "metadata": {},
   "source": [
    "Models\n",
    "- create \n",
    "- evaluate\n",
    "\n",
    "regression rf nn "
   ]
  },
  {
   "cell_type": "code",
   "execution_count": null,
   "id": "c6d0687d",
   "metadata": {},
   "outputs": [],
   "source": [
    "# Create Model 1 \n"
   ]
  },
  {
   "cell_type": "code",
   "execution_count": null,
   "id": "f02ccf50",
   "metadata": {},
   "outputs": [],
   "source": [
    "# Evaluate Model 1 \n",
    "\n",
    "accuracy recall "
   ]
  },
  {
   "cell_type": "code",
   "execution_count": null,
   "id": "97cc5caf",
   "metadata": {},
   "outputs": [],
   "source": [
    "# ROC Graph "
   ]
  },
  {
   "cell_type": "code",
   "execution_count": null,
   "id": "1193fdc2",
   "metadata": {},
   "outputs": [],
   "source": [
    "# Feature Importance "
   ]
  },
  {
   "cell_type": "code",
   "execution_count": null,
   "id": "d34f297e",
   "metadata": {},
   "outputs": [],
   "source": [
    "# confusion matrix \n"
   ]
  },
  {
   "cell_type": "code",
   "execution_count": null,
   "id": "3cba6f30",
   "metadata": {},
   "outputs": [],
   "source": []
  },
  {
   "cell_type": "markdown",
   "id": "d49f90b3",
   "metadata": {},
   "source": [
    "Limitations "
   ]
  },
  {
   "cell_type": "code",
   "execution_count": null,
   "id": "e08d13b3",
   "metadata": {},
   "outputs": [],
   "source": []
  }
 ],
 "metadata": {
  "kernelspec": {
   "display_name": "Python 3 (ipykernel)",
   "language": "python",
   "name": "python3"
  },
  "language_info": {
   "codemirror_mode": {
    "name": "ipython",
    "version": 3
   },
   "file_extension": ".py",
   "mimetype": "text/x-python",
   "name": "python",
   "nbconvert_exporter": "python",
   "pygments_lexer": "ipython3",
   "version": "3.10.9"
  }
 },
 "nbformat": 4,
 "nbformat_minor": 5
}
