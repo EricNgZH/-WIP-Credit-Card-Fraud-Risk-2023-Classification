{
 "cells": [
  {
   "cell_type": "markdown",
   "id": "5d7f61e2",
   "metadata": {},
   "source": [
    "# Introduction"
   ]
  },
  {
   "cell_type": "markdown",
   "id": "20a4f34b",
   "metadata": {},
   "source": [
    "Summary"
   ]
  },
  {
   "cell_type": "markdown",
   "id": "8165434c",
   "metadata": {},
   "source": [
    "1. Import Library"
   ]
  },
  {
   "cell_type": "code",
   "execution_count": 1,
   "id": "0a63255e",
   "metadata": {},
   "outputs": [],
   "source": [
    "# Data Handling\n",
    "import pandas as pd \n",
    "import numpy as np\n",
    "\n",
    "# Data Cleaning & Processing\n",
    "##from sklearn.model_selection import train_test_split\n",
    "##from sklearn.model_selection import KFold\n",
    "\n",
    "\n",
    "# Data Visualisation\n",
    "##import matplotlib as plt\n",
    "##? plotly\n",
    "##?seaborn\n",
    "##?bokeh\n",
    "\n",
    "\n",
    "# Model\n",
    "##from sklearn.ensemble import RandomForestClassifier\n",
    "##from sklearn.neighbors import KNeighborsClassifier\n",
    "##svm, logisitic regression, xgbt, et, xgbtlite \n",
    "\n",
    "##from sklearn.metrics import accuracy_score, roc_auc_score, mean_squared_error, precision_score, recall_score\n",
    "\n"
   ]
  },
  {
   "cell_type": "markdown",
   "id": "4a3dbfa5",
   "metadata": {},
   "source": [
    "2. Load Data"
   ]
  },
  {
   "cell_type": "code",
   "execution_count": 8,
   "id": "4fec1da4",
   "metadata": {},
   "outputs": [
    {
     "name": "stdout",
     "output_type": "stream",
     "text": [
      "<class 'pandas.core.frame.DataFrame'>\n",
      "RangeIndex: 568630 entries, 0 to 568629\n",
      "Data columns (total 31 columns):\n",
      " #   Column  Non-Null Count   Dtype  \n",
      "---  ------  --------------   -----  \n",
      " 0   id      568630 non-null  int64  \n",
      " 1   V1      568630 non-null  float64\n",
      " 2   V2      568630 non-null  float64\n",
      " 3   V3      568630 non-null  float64\n",
      " 4   V4      568630 non-null  float64\n",
      " 5   V5      568630 non-null  float64\n",
      " 6   V6      568630 non-null  float64\n",
      " 7   V7      568630 non-null  float64\n",
      " 8   V8      568630 non-null  float64\n",
      " 9   V9      568630 non-null  float64\n",
      " 10  V10     568630 non-null  float64\n",
      " 11  V11     568630 non-null  float64\n",
      " 12  V12     568630 non-null  float64\n",
      " 13  V13     568630 non-null  float64\n",
      " 14  V14     568630 non-null  float64\n",
      " 15  V15     568630 non-null  float64\n",
      " 16  V16     568630 non-null  float64\n",
      " 17  V17     568630 non-null  float64\n",
      " 18  V18     568630 non-null  float64\n",
      " 19  V19     568630 non-null  float64\n",
      " 20  V20     568630 non-null  float64\n",
      " 21  V21     568630 non-null  float64\n",
      " 22  V22     568630 non-null  float64\n",
      " 23  V23     568630 non-null  float64\n",
      " 24  V24     568630 non-null  float64\n",
      " 25  V25     568630 non-null  float64\n",
      " 26  V26     568630 non-null  float64\n",
      " 27  V27     568630 non-null  float64\n",
      " 28  V28     568630 non-null  float64\n",
      " 29  Amount  568630 non-null  float64\n",
      " 30  Class   568630 non-null  int64  \n",
      "dtypes: float64(29), int64(2)\n",
      "memory usage: 134.5 MB\n",
      "None\n",
      "-------------\n",
      "id        0\n",
      "V1        0\n",
      "V2        0\n",
      "V3        0\n",
      "V4        0\n",
      "V5        0\n",
      "V6        0\n",
      "V7        0\n",
      "V8        0\n",
      "V9        0\n",
      "V10       0\n",
      "V11       0\n",
      "V12       0\n",
      "V13       0\n",
      "V14       0\n",
      "V15       0\n",
      "V16       0\n",
      "V17       0\n",
      "V18       0\n",
      "V19       0\n",
      "V20       0\n",
      "V21       0\n",
      "V22       0\n",
      "V23       0\n",
      "V24       0\n",
      "V25       0\n",
      "V26       0\n",
      "V27       0\n",
      "V28       0\n",
      "Amount    0\n",
      "Class     0\n",
      "dtype: int64\n"
     ]
    }
   ],
   "source": [
    "df = pd.read_csv(\"/Users/zhakaeric-m1air/Downloads/Github-Repository-Data/#Classification-Regression/##Credit Card Fraud Detection Dataset 2023/creditcard_2023.csv\")\n",
    "\n",
    "print(df.info())\n",
    "\n",
    "print('-------------')\n",
    "# check NULLs \n",
    "print(df.isnull().sum())"
   ]
  },
  {
   "cell_type": "markdown",
   "id": "9d6d19b0",
   "metadata": {},
   "source": [
    "3. Data Preparation\n",
    "- check missing \n",
    "- data cleaning if any + methodology (remove/insert)"
   ]
  },
  {
   "cell_type": "code",
   "execution_count": 6,
   "id": "8ae82f28",
   "metadata": {},
   "outputs": [
    {
     "name": "stdout",
     "output_type": "stream",
     "text": [
      "id        0\n",
      "V1        0\n",
      "V2        0\n",
      "V3        0\n",
      "V4        0\n",
      "V5        0\n",
      "V6        0\n",
      "V7        0\n",
      "V8        0\n",
      "V9        0\n",
      "V10       0\n",
      "V11       0\n",
      "V12       0\n",
      "V13       0\n",
      "V14       0\n",
      "V15       0\n",
      "V16       0\n",
      "V17       0\n",
      "V18       0\n",
      "V19       0\n",
      "V20       0\n",
      "V21       0\n",
      "V22       0\n",
      "V23       0\n",
      "V24       0\n",
      "V25       0\n",
      "V26       0\n",
      "V27       0\n",
      "V28       0\n",
      "Amount    0\n",
      "Class     0\n",
      "dtype: int64\n"
     ]
    }
   ],
   "source": []
  },
  {
   "cell_type": "markdown",
   "id": "cd517cc9",
   "metadata": {},
   "source": [
    "4. Exploratory Data Analysis \n",
    "\n",
    "- descriptive stat\n",
    "- histo\n",
    "- correlation \n",
    "- identify top factors for fraud \n"
   ]
  },
  {
   "cell_type": "code",
   "execution_count": null,
   "id": "cf7793bb",
   "metadata": {},
   "outputs": [],
   "source": [
    "# Descriptive Statistics \n",
    "\n"
   ]
  },
  {
   "cell_type": "code",
   "execution_count": null,
   "id": "450ebfdb",
   "metadata": {},
   "outputs": [],
   "source": [
    "# n-fold cross validation\n",
    "n = 5\n",
    "kf = KFold(n_splits=n, shuffle=True)\n"
   ]
  },
  {
   "cell_type": "code",
   "execution_count": null,
   "id": "67bf61da",
   "metadata": {},
   "outputs": [],
   "source": []
  },
  {
   "cell_type": "markdown",
   "id": "2ec3f372",
   "metadata": {},
   "source": [
    "Models\n",
    "- create \n",
    "- evaluate\n",
    "\n",
    "regression rf nn "
   ]
  },
  {
   "cell_type": "code",
   "execution_count": null,
   "id": "dceef4e3",
   "metadata": {},
   "outputs": [],
   "source": [
    "# Create Model 1 \n"
   ]
  },
  {
   "cell_type": "code",
   "execution_count": null,
   "id": "da49dccd",
   "metadata": {},
   "outputs": [],
   "source": [
    "# Evaluate Model 1 \n",
    "\n"
   ]
  }
 ],
 "metadata": {
  "kernelspec": {
   "display_name": "Python 3 (ipykernel)",
   "language": "python",
   "name": "python3"
  },
  "language_info": {
   "codemirror_mode": {
    "name": "ipython",
    "version": 3
   },
   "file_extension": ".py",
   "mimetype": "text/x-python",
   "name": "python",
   "nbconvert_exporter": "python",
   "pygments_lexer": "ipython3",
   "version": "3.10.9"
  }
 },
 "nbformat": 4,
 "nbformat_minor": 5
}
